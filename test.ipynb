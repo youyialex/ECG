{
 "cells": [
  {
   "cell_type": "code",
   "execution_count": 66,
   "metadata": {},
   "outputs": [],
   "source": [
    "exp={'ptb_all':['all'],'test':[2],'aa':['']}\n"
   ]
  },
  {
   "cell_type": "code",
   "execution_count": 15,
   "metadata": {},
   "outputs": [
    {
     "ename": "NameError",
     "evalue": "name 'exp' is not defined",
     "output_type": "error",
     "traceback": [
      "\u001b[0;31m---------------------------------------------------------------------------\u001b[0m",
      "\u001b[0;31mNameError\u001b[0m                                 Traceback (most recent call last)",
      "\u001b[1;32m/home/c206/yy/ECG/test.ipynb Cell 2'\u001b[0m in \u001b[0;36m<cell line: 2>\u001b[0;34m()\u001b[0m\n\u001b[1;32m      <a href='vscode-notebook-cell://ssh-remote%2B7b22686f73744e616d65223a226332303652656d6f7465227d/home/c206/yy/ECG/test.ipynb#ch0000001vscode-remote?line=0'>1</a>\u001b[0m \u001b[39mimport\u001b[39;00m \u001b[39mpandas\u001b[39;00m \u001b[39mas\u001b[39;00m \u001b[39mpd\u001b[39;00m\n\u001b[0;32m----> <a href='vscode-notebook-cell://ssh-remote%2B7b22686f73744e616d65223a226332303652656d6f7465227d/home/c206/yy/ECG/test.ipynb#ch0000001vscode-remote?line=1'>2</a>\u001b[0m res\u001b[39m=\u001b[39mpd\u001b[39m.\u001b[39mDataFrame(exp)\n",
      "\u001b[0;31mNameError\u001b[0m: name 'exp' is not defined"
     ]
    }
   ],
   "source": [
    "import pandas as pd\n",
    "res=pd.DataFrame(exp)"
   ]
  },
  {
   "cell_type": "code",
   "execution_count": 17,
   "metadata": {},
   "outputs": [],
   "source": [
    "data=pd.read_csv('../ecg-diagnosis-ptb-xl/data/ptb-xl/labels.csv')"
   ]
  },
  {
   "cell_type": "code",
   "execution_count": 1,
   "metadata": {},
   "outputs": [
    {
     "data": {
      "text/plain": [
       "array([1, 2, 3, 4, 7])"
      ]
     },
     "execution_count": 1,
     "metadata": {},
     "output_type": "execute_result"
    }
   ],
   "source": [
    "import numpy as np\n",
    "lead=['V2', 'II', 'III', 'aVR', 'aVL']\n",
    "leads = ['I', 'II', 'III', 'aVR', 'aVL', 'aVF', 'V1', 'V2', 'V3', 'V4', 'V5', 'V6']\n",
    "use_leads = np.where(np.in1d(leads, lead))[0]\n",
    "use_leads"
   ]
  },
  {
   "cell_type": "code",
   "execution_count": 12,
   "metadata": {},
   "outputs": [],
   "source": [
    "aa=np.zeros((3,4))\n",
    "aa[-4:,:]=np.ones((3,4))"
   ]
  },
  {
   "cell_type": "code",
   "execution_count": 1,
   "metadata": {},
   "outputs": [
    {
     "name": "stdout",
     "output_type": "stream",
     "text": [
      "tensor(0.6625, device='cuda:0', grad_fn=<MeanBackward0>)\n",
      "tensor([[0.0180, 0.0205, 0.0171, 0.0187],\n",
      "        [0.0173, 0.0190, 0.0170, 0.0184],\n",
      "        [0.0186, 0.0167, 0.0207, 0.0182]], device='cuda:0')\n"
     ]
    }
   ],
   "source": [
    "import torch,numpy as np\n",
    "a=torch.rand((3,4),dtype=torch.float32,requires_grad=True,device='cuda')\n",
    "aa=torch.sigmoid(a)\n",
    "out=aa.mean()\n",
    "out.backward()\n",
    "print (out)\n",
    "print (a.grad)"
   ]
  },
  {
   "cell_type": "code",
   "execution_count": 51,
   "metadata": {},
   "outputs": [
    {
     "data": {
      "text/plain": [
       "(6, 4, 5)"
      ]
     },
     "execution_count": 51,
     "metadata": {},
     "output_type": "execute_result"
    }
   ],
   "source": [
    "test=np.random.rand(2,3,4,5)\n",
    "test\n",
    "aa=np.vstack(test)\n",
    "aa.shape"
   ]
  },
  {
   "cell_type": "code",
   "execution_count": 21,
   "metadata": {},
   "outputs": [],
   "source": [
    "from models import resnet\n",
    "model=resnet.resnet34(num_classes=2)"
   ]
  },
  {
   "cell_type": "code",
   "execution_count": 42,
   "metadata": {},
   "outputs": [],
   "source": [
    "aa=np.vstack(out.cpu().detach().numpy())"
   ]
  },
  {
   "cell_type": "code",
   "execution_count": 38,
   "metadata": {},
   "outputs": [],
   "source": [
    "aa"
   ]
  },
  {
   "cell_type": "code",
   "execution_count": null,
   "metadata": {},
   "outputs": [],
   "source": []
  }
 ],
 "metadata": {
  "interpreter": {
   "hash": "a4648e28a7fca51c5bea95556ffabb157219f3eeabd5b77f09e5fd4d8e3fa86b"
  },
  "kernelspec": {
   "display_name": "Python 3.9.7 ('yyvenv')",
   "language": "python",
   "name": "python3"
  },
  "language_info": {
   "codemirror_mode": {
    "name": "ipython",
    "version": 3
   },
   "file_extension": ".py",
   "mimetype": "text/x-python",
   "name": "python",
   "nbconvert_exporter": "python",
   "pygments_lexer": "ipython3",
   "version": "3.9.7"
  },
  "orig_nbformat": 4
 },
 "nbformat": 4,
 "nbformat_minor": 2
}
